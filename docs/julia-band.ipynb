{
 "cells": [
  {
   "cell_type": "code",
   "execution_count": 1,
   "metadata": {},
   "outputs": [
    {
     "data": {
      "text/plain": [
       "\"OUTCAR not exist\""
      ]
     },
     "execution_count": 1,
     "metadata": {},
     "output_type": "execute_result"
    }
   ],
   "source": [
    "function find_vasp_files(file)\n",
    "    if isfile(file)\n",
    "    else\n",
    "            return (\"$file not exist\")\n",
    "    end\n",
    "end\n",
    "\n",
    "function get_bandInfo(inFile=\"OUTCAR\")\n",
    "    find_vasp_files(inFile)\n",
    "end\n",
    "    \n",
    "function main()\n",
    "    get_bandInfo()\n",
    "end\n",
    "\n",
    "main()"
   ]
  },
  {
   "cell_type": "code",
   "execution_count": null,
   "metadata": {},
   "outputs": [],
   "source": []
  }
 ],
 "metadata": {
  "kernelspec": {
   "display_name": "Julia 1.3.1",
   "language": "julia",
   "name": "julia-1.3"
  },
  "language_info": {
   "file_extension": ".jl",
   "mimetype": "application/julia",
   "name": "julia",
   "version": "1.3.1"
  }
 },
 "nbformat": 4,
 "nbformat_minor": 2
}
